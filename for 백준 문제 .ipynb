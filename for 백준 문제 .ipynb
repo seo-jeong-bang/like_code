{
  "nbformat": 4,
  "nbformat_minor": 0,
  "metadata": {
    "colab": {
      "name": "Untitled",
      "provenance": [],
      "authorship_tag": "ABX9TyPwH1b8yoI24aizmMbtpfYo",
      "include_colab_link": true
    },
    "kernelspec": {
      "name": "python3",
      "display_name": "Python 3"
    }
  },
  "cells": [
    {
      "cell_type": "markdown",
      "metadata": {
        "id": "view-in-github",
        "colab_type": "text"
      },
      "source": [
        "<a href=\"https://colab.research.google.com/github/seo-jeong-bang/like_code/blob/main/for%20%EB%B0%B1%EC%A4%80%20%EB%AC%B8%EC%A0%9C%20.ipynb\" target=\"_parent\"><img src=\"https://colab.research.google.com/assets/colab-badge.svg\" alt=\"Open In Colab\"/></a>"
      ]
    },
    {
      "cell_type": "markdown",
      "metadata": {
        "id": "zTTHXwjEaF2x"
      },
      "source": [
        "본격적으로 for문 문제를 풀기 전에 주의해야 할 점이 있다. 입출력 방식이 느리면 여러 줄을 입력받거나 출력할 때 시간초과가 날 수 있다는 점이다.\r\n",
        "\r\n",
        "Python을 사용하고 있다면, input 대신 sys.stdin.readline을 사용할 수 있다. 단, 이때는 맨 끝의 개행문자까지 같이 입력받기 때문에 문자열을 저장하고 싶을 경우 .rstrip()을 추가로 해 주는 것이 좋다.\r\n",
        "\r\n",
        "또한 입력과 출력 스트림은 별개이므로, 테스트케이스를 전부 입력받아서 저장한 뒤 전부 출력할 필요는 없다. 테스트케이스를 하나 받은 뒤 하나 출력해도 된다."
      ]
    },
    {
      "cell_type": "code",
      "metadata": {
        "id": "equuId7PiGFz"
      },
      "source": [
        "import sys\r\n",
        "cases = int(input())\r\n",
        "\r\n",
        "for i in range(cases):\r\n",
        "    a,b = map(int, sys.stdin.readline().split())\r\n",
        "    print(a+b)"
      ],
      "execution_count": null,
      "outputs": []
    },
    {
      "cell_type": "code",
      "metadata": {
        "id": "QLfCn7-limeQ"
      },
      "source": [
        "import sys\r\n",
        "num = int(sys.stdin.readline())\r\n",
        "for i in range(num):\r\n",
        "    a, b = map(int,sys.stdin.readline().split())\r\n",
        "    print(a+b)\r\n"
      ],
      "execution_count": null,
      "outputs": []
    },
    {
      "cell_type": "code",
      "metadata": {
        "id": "fP45CwfMdCoi"
      },
      "source": [
        "import sys\r\n",
        "npt=sys.stdin.readline\r\n",
        "T=int(npt())\r\n",
        "for i in range(T):\r\n",
        "    A, B=npt().split()\r\n",
        "    print(int(A)+int(B))"
      ],
      "execution_count": null,
      "outputs": []
    },
    {
      "cell_type": "markdown",
      "metadata": {
        "id": "ZZAvGuKEkvrr"
      },
      "source": [
        "문제\r\n",
        "두 정수 A와 B를 입력받은 다음, A+B를 출력하는 프로그램을 작성하시오.\r\n",
        "\r\n",
        "입력\r\n",
        "첫째 줄에 테스트 케이스의 개수 T가 주어진다.\r\n",
        "\r\n",
        "각 테스트 케이스는 한 줄로 이루어져 있으며, 각 줄에 A와 B가 주어진다. (0 < A, B < 10)\r\n",
        "\r\n",
        "출력\r\n",
        "각 테스트 케이스마다 \"Case #x: \"를 출력한 다음, A+B를 출력한다. 테스트 케이스 번호는 1부터 시작한다."
      ]
    },
    {
      "cell_type": "code",
      "metadata": {
        "id": "0-Fq-yILkxFT"
      },
      "source": [
        "\r\n",
        "t=int(input())\r\n",
        "for i in range(t):\r\n",
        "  a,b=map(int,input().split())\r\n",
        "  print(\"case#\",i+1,\":\",a+b)\r\n",
        "\r\n",
        "\r\n",
        "\r\n",
        "\r\n",
        "  "
      ],
      "execution_count": null,
      "outputs": []
    },
    {
      "cell_type": "code",
      "metadata": {
        "id": "ySUzxwTiqLQe"
      },
      "source": [
        "t=int(input())\r\n",
        "for i in range(1, t+1) :\r\n",
        "    a, b = map(int, input().split(\" \"))\r\n",
        "    print(\"Case #%d: %d\",%(i,a+b))\r\n",
        "\r\n",
        "\r\n",
        "\r\n"
      ],
      "execution_count": null,
      "outputs": []
    },
    {
      "cell_type": "code",
      "metadata": {
        "id": "WP2o88QVvsZs"
      },
      "source": [
        "T=int(input())\r\n",
        "\r\n",
        "for i in range(1,T+1):\r\n",
        "    A,B=map(int,input().split(\" \"))\r\n",
        "    print(\"Case #%d: %d + %d = %d\" %(i, A , B , A+B))\r\n",
        " \r\n"
      ],
      "execution_count": null,
      "outputs": []
    },
    {
      "cell_type": "markdown",
      "metadata": {
        "id": "TYd-3eoOx7Iq"
      },
      "source": [
        "문제\r\n",
        "정수 N개로 이루어진 수열 A와 정수 X가 주어진다. 이때, A에서 X보다 작은 수를 모두 출력하는 프로그램을 작성하시오.\r\n",
        "\r\n",
        "입력\r\n",
        "첫째 줄에 N과 X가 주어진다. (1 ≤ N, X ≤ 10,000)\r\n",
        "\r\n",
        "둘째 줄에 수열 A를 이루는 정수 N개가 주어진다. 주어지는 정수는 모두 1보다 크거나 같고, 10,000보다 작거나 같은 정수이다.\r\n",
        "\r\n",
        "출력\r\n",
        "X보다 작은 수를 입력받은 순서대로 공백으로 구분해 출력한다. X보다 작은 수는 적어도 하나 존재한다."
      ]
    },
    {
      "cell_type": "code",
      "metadata": {
        "id": "I2BdpBcrqKC9"
      },
      "source": [
        "\r\n",
        "N, X = map(int, input().split(\" \"))\r\n",
        "A =list( map(int, input().split()))\r\n",
        "\r\n",
        "for i in range(N):\r\n",
        "  if A[i]<X:\r\n",
        "    print(A[i],end=\" \")\r\n",
        " \r\n"
      ],
      "execution_count": null,
      "outputs": []
    },
    {
      "cell_type": "code",
      "metadata": {
        "id": "BZwF5XeBzuqn"
      },
      "source": [
        ""
      ],
      "execution_count": null,
      "outputs": []
    }
  ]
}