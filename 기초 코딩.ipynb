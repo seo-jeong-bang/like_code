{
  "nbformat": 4,
  "nbformat_minor": 0,
  "metadata": {
    "colab": {
      "name": "Untitled0.ipynb",
      "provenance": [],
      "authorship_tag": "ABX9TyPQJV75M4WJDZZfUUAToG3n",
      "include_colab_link": true
    },
    "kernelspec": {
      "display_name": "Python 3",
      "name": "python3"
    }
  },
  "cells": [
    {
      "cell_type": "markdown",
      "metadata": {
        "id": "view-in-github",
        "colab_type": "text"
      },
      "source": [
        "<a href=\"https://colab.research.google.com/github/seo-jeong-bang/like_code/blob/main/%EA%B8%B0%EC%B4%88%20%EC%BD%94%EB%94%A9.ipynb\" target=\"_parent\"><img src=\"https://colab.research.google.com/assets/colab-badge.svg\" alt=\"Open In Colab\"/></a>"
      ]
    },
    {
      "cell_type": "code",
      "metadata": {
        "colab": {
          "base_uri": "https://localhost:8080/"
        },
        "id": "lonjDqVecqd9",
        "outputId": "3e147bcd-d2d7-42dd-c40d-1791454a7bec"
      },
      "source": [
        "a={}\r\n",
        "b={\"이름\":\"방서정\",\"나이\":\"24살\"}\r\n",
        "print(b[\"이름\"])\r\n",
        "print(b[\"나이\"])\r\n",
        "b[\"성별\"]=\"여자\"\r\n",
        "print(b)\r\n",
        "print(b.get('이름'))\r\n",
        "print(b[\"성별\"])\r\n",
        "print(b.get('성별'))\r\n",
        "\r\n",
        "print(b.keys())\r\n",
        "print(b.items())"
      ],
      "execution_count": 14,
      "outputs": [
        {
          "output_type": "stream",
          "text": [
            "방서정\n",
            "24살\n",
            "{'이름': '방서정', '나이': '24살', '성별': '여자'}\n",
            "방서정\n",
            "여자\n",
            "여자\n",
            "dict_keys(['이름', '나이', '성별'])\n",
            "dict_items([('이름', '방서정'), ('나이', '24살'), ('성별', '여자')])\n"
          ],
          "name": "stdout"
        }
      ]
    },
    {
      "cell_type": "code",
      "metadata": {
        "colab": {
          "base_uri": "https://localhost:8080/"
        },
        "id": "aA42FnVTgsuy",
        "outputId": "8d9278f4-c8a5-452a-ecc4-26005a106e4e"
      },
      "source": [
        "singer={}\r\n",
        "\r\n",
        "singer[\"이름\"]=\"방탄소년단\"\r\n",
        "singer[\"구성원 수\"]=\"7명\"\r\n",
        "singer[\"타이틀곡\"]=\"다이너마이트\"\r\n",
        "\r\n",
        "for x in singer.keys():\r\n",
        "  print('%s ----> %s'%(x,singer[x]))\r\n",
        "\r\n",
        "  \r\n",
        "   \r\n",
        "\r\n"
      ],
      "execution_count": 15,
      "outputs": [
        {
          "output_type": "stream",
          "text": [
            "이름 ----> 방탄소년단\n",
            "구성원 수 ----> 7명\n",
            "타이틀곡 ----> 다이너마이트\n"
          ],
          "name": "stdout"
        }
      ]
    },
    {
      "cell_type": "code",
      "metadata": {
        "id": "kLUpmOYNjJJG"
      },
      "source": [
        "#오늘의 점심메뉴\r\n",
        "foods={\"마라탕\":\"14000원\",\"짜장면\":\"6000원\",\"우동\":\"4000원\",\"탕수육\":\"12000원\"}\r\n"
      ],
      "execution_count": null,
      "outputs": []
    },
    {
      "cell_type": "code",
      "metadata": {
        "colab": {
          "base_uri": "https://localhost:8080/"
        },
        "id": "0HduIAZmjxNU",
        "outputId": "29ca2ab9-9509-47b2-cd09-ac48cb0bf699"
      },
      "source": [
        "#if문\r\n",
        "\r\n",
        "a=160\r\n",
        "if a<100:\r\n",
        "    print(\"100보다 작군요\")\r\n",
        "    print(\"작은 수군요\")\r\n",
        "\r\n",
        "print(\"반갑습니다\")\r\n",
        "\r\n",
        "\r\n",
        "\r\n",
        "a=int(input(\"숫자를 입력하세요:\"))\r\n",
        "\r\n",
        "if a%2==0:\r\n",
        "  print(\"짝수입니다\")\r\n",
        "else:\r\n",
        "  print(\"홀수입니다\")\r\n",
        "\r\n",
        "\r\n",
        "\r\n"
      ],
      "execution_count": 26,
      "outputs": [
        {
          "output_type": "stream",
          "text": [
            "반갑습니다\n",
            "숫자를 입력하세요:52\n",
            "짝수입니다\n"
          ],
          "name": "stdout"
        }
      ]
    },
    {
      "cell_type": "code",
      "metadata": {
        "colab": {
          "base_uri": "https://localhost:8080/"
        },
        "id": "tmtXrw87lvGL",
        "outputId": "7378d031-0a3a-47b3-8dae-2e88418e58b1"
      },
      "source": [
        "# 성적표 만들기\r\n",
        "\r\n",
        "score=int(input(\"점수를 입력하세요:\"))\r\n",
        "if score==100:\r\n",
        "  print(\"만점입니다\")\r\n",
        "else:\r\n",
        "    if score>90:\r\n",
        "       print(\"A\")\r\n",
        "    else:\r\n",
        "      if score>70:\r\n",
        "        print(\"B\")\r\n",
        "      else:\r\n",
        "          if score>50:\r\n",
        "            print(\"C\")\r\n",
        "          else:\r\n",
        "              print(\"D\")\r\n",
        " \r\n",
        "    \r\n"
      ],
      "execution_count": 37,
      "outputs": [
        {
          "output_type": "stream",
          "text": [
            "점수를 입력하세요:30\n",
            "D\n"
          ],
          "name": "stdout"
        }
      ]
    },
    {
      "cell_type": "code",
      "metadata": {
        "id": "ChmoYVsYnogf"
      },
      "source": [
        ""
      ],
      "execution_count": null,
      "outputs": []
    },
    {
      "cell_type": "code",
      "metadata": {
        "colab": {
          "base_uri": "https://localhost:8080/"
        },
        "id": "RVnQz6uWnqQL",
        "outputId": "26bdeba5-d404-4ae9-a138-55aa5cf43dfb"
      },
      "source": [
        "# 성적표 만들기\r\n",
        "\r\n",
        "score=int(input(\"점수를 입력하세요:\"))\r\n",
        "if score==100:\r\n",
        "  print(\"만점입니다\")\r\n",
        "elif score>90:\r\n",
        "       print(\"A\")\r\n",
        "elif score>70:\r\n",
        "        print(\"B\")\r\n",
        "elif score>50:\r\n",
        "            print(\"C\")\r\n",
        "else:\r\n",
        "              print(\"D\")\r\n",
        " \r\n",
        "    \r\n"
      ],
      "execution_count": 39,
      "outputs": [
        {
          "output_type": "stream",
          "text": [
            "점수를 입력하세요:80\n",
            "B\n"
          ],
          "name": "stdout"
        }
      ]
    },
    {
      "cell_type": "code",
      "metadata": {
        "colab": {
          "base_uri": "https://localhost:8080/"
        },
        "id": "lyArFl_EoISW",
        "outputId": "9cf4c2a9-773e-45d3-9091-d537b3e466aa"
      },
      "source": [
        "import random\r\n",
        "\r\n",
        "numbers=[]\r\n",
        "for num in range(0,50):\r\n",
        "    numbers.append(random.randrange(0,50))\r\n",
        "\r\n",
        "print(\"숫자\",numbers)\r\n",
        "\r\n",
        "for num in range(0,50):\r\n",
        "  if num not in numbers:\r\n",
        "    print(\"%d 는 리스트에 없네요\"%num)\r\n",
        "\r\n"
      ],
      "execution_count": 45,
      "outputs": [
        {
          "output_type": "stream",
          "text": [
            "숫자 [12, 43, 20, 29, 15, 7, 4, 41, 18, 5, 0, 32, 45, 30, 3, 37, 1, 24, 41, 49, 33, 30, 5, 24, 37, 37, 12, 35, 19, 30, 11, 32, 38, 43, 12, 25, 10, 18, 11, 8, 42, 0, 35, 48, 2, 28, 30, 16, 28, 24]\n",
            "0 는 리스트에 있네요\n",
            "1 는 리스트에 있네요\n",
            "2 는 리스트에 있네요\n",
            "3 는 리스트에 있네요\n",
            "4 는 리스트에 있네요\n",
            "5 는 리스트에 있네요\n",
            "7 는 리스트에 있네요\n",
            "8 는 리스트에 있네요\n",
            "10 는 리스트에 있네요\n",
            "11 는 리스트에 있네요\n",
            "12 는 리스트에 있네요\n",
            "15 는 리스트에 있네요\n",
            "16 는 리스트에 있네요\n",
            "18 는 리스트에 있네요\n",
            "19 는 리스트에 있네요\n",
            "20 는 리스트에 있네요\n",
            "24 는 리스트에 있네요\n",
            "25 는 리스트에 있네요\n",
            "28 는 리스트에 있네요\n",
            "29 는 리스트에 있네요\n",
            "30 는 리스트에 있네요\n",
            "32 는 리스트에 있네요\n",
            "33 는 리스트에 있네요\n",
            "35 는 리스트에 있네요\n",
            "37 는 리스트에 있네요\n",
            "38 는 리스트에 있네요\n",
            "41 는 리스트에 있네요\n",
            "42 는 리스트에 있네요\n",
            "43 는 리스트에 있네요\n",
            "45 는 리스트에 있네요\n",
            "48 는 리스트에 있네요\n",
            "49 는 리스트에 있네요\n"
          ],
          "name": "stdout"
        }
      ]
    },
    {
      "cell_type": "code",
      "metadata": {
        "colab": {
          "base_uri": "https://localhost:8080/"
        },
        "id": "dmXGvbraq3ko",
        "outputId": "9cf4c2a9-773e-45d3-9091-d537b3e466aa"
      },
      "source": [
        "import random\r\n",
        "\r\n",
        "numbers=[]\r\n",
        "for num in range(0,50):\r\n",
        "    numbers.append(random.randrange(0,50))\r\n",
        "\r\n",
        "print(\"숫자\",numbers)\r\n",
        "\r\n",
        "for num in range(0,50):\r\n",
        "  if num not in numbers:\r\n",
        "    print(\"%d 는 리스트에 없네요\"%num)\r\n",
        "\r\n"
      ],
      "execution_count": null,
      "outputs": [
        {
          "output_type": "stream",
          "text": [
            "숫자 [12, 43, 20, 29, 15, 7, 4, 41, 18, 5, 0, 32, 45, 30, 3, 37, 1, 24, 41, 49, 33, 30, 5, 24, 37, 37, 12, 35, 19, 30, 11, 32, 38, 43, 12, 25, 10, 18, 11, 8, 42, 0, 35, 48, 2, 28, 30, 16, 28, 24]\n",
            "0 는 리스트에 있네요\n",
            "1 는 리스트에 있네요\n",
            "2 는 리스트에 있네요\n",
            "3 는 리스트에 있네요\n",
            "4 는 리스트에 있네요\n",
            "5 는 리스트에 있네요\n",
            "7 는 리스트에 있네요\n",
            "8 는 리스트에 있네요\n",
            "10 는 리스트에 있네요\n",
            "11 는 리스트에 있네요\n",
            "12 는 리스트에 있네요\n",
            "15 는 리스트에 있네요\n",
            "16 는 리스트에 있네요\n",
            "18 는 리스트에 있네요\n",
            "19 는 리스트에 있네요\n",
            "20 는 리스트에 있네요\n",
            "24 는 리스트에 있네요\n",
            "25 는 리스트에 있네요\n",
            "28 는 리스트에 있네요\n",
            "29 는 리스트에 있네요\n",
            "30 는 리스트에 있네요\n",
            "32 는 리스트에 있네요\n",
            "33 는 리스트에 있네요\n",
            "35 는 리스트에 있네요\n",
            "37 는 리스트에 있네요\n",
            "38 는 리스트에 있네요\n",
            "41 는 리스트에 있네요\n",
            "42 는 리스트에 있네요\n",
            "43 는 리스트에 있네요\n",
            "45 는 리스트에 있네요\n",
            "48 는 리스트에 있네요\n",
            "49 는 리스트에 있네요\n"
          ],
          "name": "stdout"
        }
      ]
    },
    {
      "cell_type": "code",
      "metadata": {
        "id": "L7TAEiEFsTjp"
      },
      "source": [
        ""
      ],
      "execution_count": null,
      "outputs": []
    },
    {
      "cell_type": "code",
      "metadata": {
        "colab": {
          "base_uri": "https://localhost:8080/"
        },
        "id": "d39Nt9jsqneQ",
        "outputId": "fef06529-8310-4acf-ee3e-0b189529d8fb"
      },
      "source": [
        "import random\r\n",
        "for i in range(1,46):\r\n",
        "  lotto=random.sample(range(1,46),6)\r\n",
        "  lotto.sort()\r\n",
        "print(lotto)\r\n",
        "\r\n"
      ],
      "execution_count": 66,
      "outputs": [
        {
          "output_type": "stream",
          "text": [
            "[10, 12, 17, 24, 36, 39]\n"
          ],
          "name": "stdout"
        }
      ]
    },
    {
      "cell_type": "code",
      "metadata": {
        "colab": {
          "base_uri": "https://localhost:8080/"
        },
        "id": "s7SnAxZPv3rn",
        "outputId": "abb56fbf-9205-4457-e25f-bc7b92537571"
      },
      "source": [
        "import random\r\n",
        "로또=random.sample(range(1,46),6)\r\n",
        "print(로또)"
      ],
      "execution_count": 71,
      "outputs": [
        {
          "output_type": "stream",
          "text": [
            "[1, 25, 40, 5, 7, 45]\n"
          ],
          "name": "stdout"
        }
      ]
    },
    {
      "cell_type": "code",
      "metadata": {
        "colab": {
          "base_uri": "https://localhost:8080/"
        },
        "id": "jp3U_A4Q06L-",
        "outputId": "cdd7d085-75f0-4a5e-d5ba-d74d45e179b2"
      },
      "source": [
        "B=[172.5,162.9,161.7,160.1,161.8,159.2] \r\n",
        "sum=0\r\n",
        "for b in B: \r\n",
        "   sum+=i \r\n",
        "print(sum/len(B)) \r\n"
      ],
      "execution_count": 79,
      "outputs": [
        {
          "output_type": "stream",
          "text": [
            "167.20000000000002\n"
          ],
          "name": "stdout"
        }
      ]
    },
    {
      "cell_type": "code",
      "metadata": {
        "colab": {
          "base_uri": "https://localhost:8080/"
        },
        "id": "CJU_m5Sg0Dhz",
        "outputId": "ebdc487a-860d-407a-c85d-d401efe5a2e4"
      },
      "source": [
        "A=[161.5,155.9,168.7,163.1,170.8,167.2]\r\n",
        "sum=0\r\n",
        "for i in A:\r\n",
        "  sum+=i\r\n",
        "print(sum/len(A))"
      ],
      "execution_count": 73,
      "outputs": [
        {
          "output_type": "stream",
          "text": [
            "164.53333333333333\n"
          ],
          "name": "stdout"
        }
      ]
    },
    {
      "cell_type": "code",
      "metadata": {
        "colab": {
          "base_uri": "https://localhost:8080/"
        },
        "id": "MLWYrcS8dH5Q",
        "outputId": "75defd9c-b70b-4e15-9c37-9ba334486e1f"
      },
      "source": [
        "for i in range(0,3,1):\r\n",
        "   print(\"안녕하세요\")"
      ],
      "execution_count": 9,
      "outputs": [
        {
          "output_type": "stream",
          "text": [
            "안녕하세요\n",
            "안녕하세요\n",
            "안녕하세요\n"
          ],
          "name": "stdout"
        }
      ]
    },
    {
      "cell_type": "code",
      "metadata": {
        "colab": {
          "base_uri": "https://localhost:8080/"
        },
        "id": "CV4OuIOyftt6",
        "outputId": "a8218358-caa3-4eda-eefe-b817a4709c98"
      },
      "source": [
        "for i in range(1,5,1):\r\n",
        "  print(\"%d:안녕하세요\"%i)"
      ],
      "execution_count": 15,
      "outputs": [
        {
          "output_type": "stream",
          "text": [
            "1:안녕하세요\n",
            "2:안녕하세요\n",
            "3:안녕하세요\n",
            "4:안녕하세요\n"
          ],
          "name": "stdout"
        }
      ]
    },
    {
      "cell_type": "code",
      "metadata": {
        "colab": {
          "base_uri": "https://localhost:8080/"
        },
        "id": "uNYqQ-PVgm2x",
        "outputId": "622d5df1-7f28-4ae6-cd9e-a4f54781db1a"
      },
      "source": [
        "for i in range(1,4,2):\r\n",
        "  print(\"%d:안녕하세요\"%i)"
      ],
      "execution_count": 16,
      "outputs": [
        {
          "output_type": "stream",
          "text": [
            "1:안녕하세요\n",
            "3:안녕하세요\n"
          ],
          "name": "stdout"
        }
      ]
    },
    {
      "cell_type": "code",
      "metadata": {
        "colab": {
          "base_uri": "https://localhost:8080/"
        },
        "id": "ivFRb_tghLY1",
        "outputId": "0d4fc76b-60c6-4bbd-81e5-be0abf0066ed"
      },
      "source": [
        "for i in range(0,11,2):\r\n",
        "  print(\"%d\"%i)"
      ],
      "execution_count": 17,
      "outputs": [
        {
          "output_type": "stream",
          "text": [
            "0\n",
            "2\n",
            "4\n",
            "6\n",
            "8\n",
            "10\n"
          ],
          "name": "stdout"
        }
      ]
    },
    {
      "cell_type": "code",
      "metadata": {
        "colab": {
          "base_uri": "https://localhost:8080/"
        },
        "id": "m3ilZGSqhh-j",
        "outputId": "90a40964-9ba6-4d8a-b64f-1ceff07a93d9"
      },
      "source": [
        "for i in range(1,10,2):\r\n",
        "  print(\"%d\"%i)"
      ],
      "execution_count": 18,
      "outputs": [
        {
          "output_type": "stream",
          "text": [
            "1\n",
            "3\n",
            "5\n",
            "7\n",
            "9\n"
          ],
          "name": "stdout"
        }
      ]
    },
    {
      "cell_type": "code",
      "metadata": {
        "colab": {
          "base_uri": "https://localhost:8080/"
        },
        "id": "9dyE5po1h1iv",
        "outputId": "8be083be-1c45-425a-ec7d-cdb854afbdb6"
      },
      "source": [
        "i,sum=0,0\r\n",
        "\r\n",
        "for i in range(1,101,1):\r\n",
        "   sum=sum+i\r\n",
        "print(\"1부터 100까지 합:%d\"%sum)  "
      ],
      "execution_count": 20,
      "outputs": [
        {
          "output_type": "stream",
          "text": [
            "1부터 100까지 합:5050\n"
          ],
          "name": "stdout"
        }
      ]
    },
    {
      "cell_type": "code",
      "metadata": {
        "colab": {
          "base_uri": "https://localhost:8080/"
        },
        "id": "3AJqhWNtjE-x",
        "outputId": "dc072e6d-f5db-4782-9d3e-599638dd7c92"
      },
      "source": [
        "i,sum=0,0\r\n",
        "\r\n",
        "for i in range(1,101,2):\r\n",
        "  sum=sum+i\r\n",
        "print(\"1부터100까지 홀수의 합:%d\"%sum)  "
      ],
      "execution_count": 21,
      "outputs": [
        {
          "output_type": "stream",
          "text": [
            "1부터100까지 홀수의 합:2500\n"
          ],
          "name": "stdout"
        }
      ]
    },
    {
      "cell_type": "code",
      "metadata": {
        "colab": {
          "base_uri": "https://localhost:8080/"
        },
        "id": "IqZfJ0J9jWo3",
        "outputId": "969bdd7e-86ba-48f9-eec0-d7abe73c4295"
      },
      "source": [
        "i,sum=0,0\r\n",
        "num=0\r\n",
        "\r\n",
        "num=int(input(\"값 입력:\"))\r\n",
        "\r\n",
        "for i in range(1,num+1,1):\r\n",
        "    sum=sum+i\r\n",
        "print(\"1에서 %d까지의 합:%d\"%(num,sum))    \r\n"
      ],
      "execution_count": 25,
      "outputs": [
        {
          "output_type": "stream",
          "text": [
            "값 입력:39\n",
            "1에서 39까지의 합:780\n"
          ],
          "name": "stdout"
        }
      ]
    },
    {
      "cell_type": "code",
      "metadata": {
        "colab": {
          "base_uri": "https://localhost:8080/"
        },
        "id": "0-02D_H8k5cE",
        "outputId": "a9b96a72-e952-4143-bbd0-1ec200593285"
      },
      "source": [
        "i,k=0,0\r\n",
        "for i in range(2,10,1):\r\n",
        "  for k in range(1,10,1):\r\n",
        "    print(\"%dX%d=%2d\"%(i,k,i*k))\r\n"
      ],
      "execution_count": 30,
      "outputs": [
        {
          "output_type": "stream",
          "text": [
            "2X1= 2\n",
            "2X2= 4\n",
            "2X3= 6\n",
            "2X4= 8\n",
            "2X5=10\n",
            "2X6=12\n",
            "2X7=14\n",
            "2X8=16\n",
            "2X9=18\n",
            "3X1= 3\n",
            "3X2= 6\n",
            "3X3= 9\n",
            "3X4=12\n",
            "3X5=15\n",
            "3X6=18\n",
            "3X7=21\n",
            "3X8=24\n",
            "3X9=27\n",
            "4X1= 4\n",
            "4X2= 8\n",
            "4X3=12\n",
            "4X4=16\n",
            "4X5=20\n",
            "4X6=24\n",
            "4X7=28\n",
            "4X8=32\n",
            "4X9=36\n",
            "5X1= 5\n",
            "5X2=10\n",
            "5X3=15\n",
            "5X4=20\n",
            "5X5=25\n",
            "5X6=30\n",
            "5X7=35\n",
            "5X8=40\n",
            "5X9=45\n",
            "6X1= 6\n",
            "6X2=12\n",
            "6X3=18\n",
            "6X4=24\n",
            "6X5=30\n",
            "6X6=36\n",
            "6X7=42\n",
            "6X8=48\n",
            "6X9=54\n",
            "7X1= 7\n",
            "7X2=14\n",
            "7X3=21\n",
            "7X4=28\n",
            "7X5=35\n",
            "7X6=42\n",
            "7X7=49\n",
            "7X8=56\n",
            "7X9=63\n",
            "8X1= 8\n",
            "8X2=16\n",
            "8X3=24\n",
            "8X4=32\n",
            "8X5=40\n",
            "8X6=48\n",
            "8X7=56\n",
            "8X8=64\n",
            "8X9=72\n",
            "9X1= 9\n",
            "9X2=18\n",
            "9X3=27\n",
            "9X4=36\n",
            "9X5=45\n",
            "9X6=54\n",
            "9X7=63\n",
            "9X8=72\n",
            "9X9=81\n"
          ],
          "name": "stdout"
        }
      ]
    },
    {
      "cell_type": "code",
      "metadata": {
        "colab": {
          "base_uri": "https://localhost:8080/"
        },
        "id": "4NMRGCm4nGOv",
        "outputId": "c336e064-85fd-46f2-81df-9cb4500a5517"
      },
      "source": [
        "i,k,gugu=0,0,\"\"\r\n",
        "for i in range (2,10):\r\n",
        "  gugu=gugu+(\"%d단\"%i)\r\n",
        "print(gugu)  \r\n",
        "\r\n",
        "for i in range(1,10):\r\n",
        "  gugu=\"\"\r\n",
        "  for k in range(2,10):\r\n",
        "    gugu=gugu+str(\"%2dX%2d=%2d\"%(k,i,(k*i)))\r\n",
        "  print(gugu)"
      ],
      "execution_count": 37,
      "outputs": [
        {
          "output_type": "stream",
          "text": [
            "2단3단4단5단6단7단8단9단\n",
            " 2X 1= 2 3X 1= 3 4X 1= 4 5X 1= 5 6X 1= 6 7X 1= 7 8X 1= 8 9X 1= 9\n",
            " 2X 2= 4 3X 2= 6 4X 2= 8 5X 2=10 6X 2=12 7X 2=14 8X 2=16 9X 2=18\n",
            " 2X 3= 6 3X 3= 9 4X 3=12 5X 3=15 6X 3=18 7X 3=21 8X 3=24 9X 3=27\n",
            " 2X 4= 8 3X 4=12 4X 4=16 5X 4=20 6X 4=24 7X 4=28 8X 4=32 9X 4=36\n",
            " 2X 5=10 3X 5=15 4X 5=20 5X 5=25 6X 5=30 7X 5=35 8X 5=40 9X 5=45\n",
            " 2X 6=12 3X 6=18 4X 6=24 5X 6=30 6X 6=36 7X 6=42 8X 6=48 9X 6=54\n",
            " 2X 7=14 3X 7=21 4X 7=28 5X 7=35 6X 7=42 7X 7=49 8X 7=56 9X 7=63\n",
            " 2X 8=16 3X 8=24 4X 8=32 5X 8=40 6X 8=48 7X 8=56 8X 8=64 9X 8=72\n",
            " 2X 9=18 3X 9=27 4X 9=36 5X 9=45 6X 9=54 7X 9=63 8X 9=72 9X 9=81\n"
          ],
          "name": "stdout"
        }
      ]
    },
    {
      "cell_type": "code",
      "metadata": {
        "colab": {
          "base_uri": "https://localhost:8080/"
        },
        "id": "TYtkT62nse5J",
        "outputId": "faf9cfd2-67d7-46ef-ea7b-5921a5096576"
      },
      "source": [
        "i=0\r\n",
        "while i<3:\r\n",
        "  print(\"%d:안녕하세요\"%i)\r\n",
        "  i=i+1"
      ],
      "execution_count": 39,
      "outputs": [
        {
          "output_type": "stream",
          "text": [
            "0:안녕하세요\n",
            "1:안녕하세요\n",
            "2:안녕하세요\n"
          ],
          "name": "stdout"
        }
      ]
    },
    {
      "cell_type": "code",
      "metadata": {
        "colab": {
          "base_uri": "https://localhost:8080/"
        },
        "id": "OkWvcYwStEg9",
        "outputId": "0c27d3f2-58bf-4c42-8f29-3cdd5fde985d"
      },
      "source": [
        "i,sum=0,0\r\n",
        "\r\n",
        "i=1\r\n",
        "while i<101:\r\n",
        "  sum=sum+i\r\n",
        "  i=i+1\r\n",
        "print(\"1에서 100까지의 합:%d\"%sum)"
      ],
      "execution_count": 42,
      "outputs": [
        {
          "output_type": "stream",
          "text": [
            "1에서 100까지의 합:5050\n"
          ],
          "name": "stdout"
        }
      ]
    },
    {
      "cell_type": "code",
      "metadata": {
        "colab": {
          "base_uri": "https://localhost:8080/"
        },
        "id": "t2TuOKchuh8u",
        "outputId": "65bdb819-f04d-4cce-8bf3-c2444b654263"
      },
      "source": [
        "a=\"             파     이     썬          \"\r\n",
        "print(a.strip())\r\n",
        "print(a.rstrip())\r\n",
        "print(a.lstrip())"
      ],
      "execution_count": 51,
      "outputs": [
        {
          "output_type": "stream",
          "text": [
            "파     이     썬\n",
            "             파     이     썬\n",
            "파     이     썬          \n"
          ],
          "name": "stdout"
        }
      ]
    }
  ]
}