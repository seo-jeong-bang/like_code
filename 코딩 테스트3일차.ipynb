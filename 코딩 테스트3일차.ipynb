{
  "nbformat": 4,
  "nbformat_minor": 0,
  "metadata": {
    "colab": {
      "name": "Untitled1.ipynb의 사본",
      "provenance": [],
      "authorship_tag": "ABX9TyO0hFkI+WjdgWjhfMCaBCF0",
      "include_colab_link": true
    },
    "kernelspec": {
      "name": "python3",
      "display_name": "Python 3"
    }
  },
  "cells": [
    {
      "cell_type": "markdown",
      "metadata": {
        "id": "view-in-github",
        "colab_type": "text"
      },
      "source": [
        "<a href=\"https://colab.research.google.com/github/seo-jeong-bang/like_code/blob/main/%EC%BD%94%EB%94%A9%20%ED%85%8C%EC%8A%A4%ED%8A%B83%EC%9D%BC%EC%B0%A8.ipynb\" target=\"_parent\"><img src=\"https://colab.research.google.com/assets/colab-badge.svg\" alt=\"Open In Colab\"/></a>"
      ]
    },
    {
      "cell_type": "code",
      "metadata": {
        "id": "Dy6GiVNZXNZ2"
      },
      "source": [
        ""
      ],
      "execution_count": null,
      "outputs": []
    },
    {
      "cell_type": "code",
      "metadata": {
        "colab": {
          "base_uri": "https://localhost:8080/"
        },
        "id": "wpudAMi-bUPa",
        "outputId": "7869da6a-4fc1-4251-a4ff-370e54f33d70"
      },
      "source": [
        "#데이터 개수 입력\r\n",
        "n=int(input(\"숫자를 입력\"))\r\n",
        "#각 데이터를 공백으로 구분하여 입력\r\n",
        "data=list(map(int,input(\"숫자를 입력하세요\").split()))\r\n",
        "data.sort(reverse=True)\r\n",
        "print(data)"
      ],
      "execution_count": null,
      "outputs": [
        {
          "output_type": "stream",
          "text": [
            "숫자를 입력6\n",
            "숫자를 입력하세요90 60 49 50 38 39 24\n",
            "[90, 60, 50, 49, 39, 38, 24]\n"
          ],
          "name": "stdout"
        }
      ]
    },
    {
      "cell_type": "markdown",
      "metadata": {
        "id": "c81Z3fSUerH_"
      },
      "source": [
        ""
      ]
    },
    {
      "cell_type": "code",
      "metadata": {
        "colab": {
          "base_uri": "https://localhost:8080/"
        },
        "id": "s7LDzJGocs9m",
        "outputId": "4d924016-4035-46fd-c7ff-1147232f7b23"
      },
      "source": [
        "#n,m,k를 공백으로 구분하여 입력\r\n",
        "n,m,k=map(int,input().split())\r\n",
        "\r\n",
        "print(n,m,k)"
      ],
      "execution_count": null,
      "outputs": [
        {
          "output_type": "stream",
          "text": [
            "40 50 30 \n",
            "40 50 30\n"
          ],
          "name": "stdout"
        }
      ]
    },
    {
      "cell_type": "code",
      "metadata": {
        "colab": {
          "base_uri": "https://localhost:8080/"
        },
        "id": "miSM8M1GhhqC",
        "outputId": "9269a25b-0dd5-43f3-eb89-f3873bbe831c"
      },
      "source": [
        "import sys\r\n",
        "data=sys.stdin.readline().rstrip()\r\n",
        "print(data)\r\n"
      ],
      "execution_count": null,
      "outputs": [
        {
          "output_type": "stream",
          "text": [
            "\n"
          ],
          "name": "stdout"
        }
      ]
    },
    {
      "cell_type": "code",
      "metadata": {
        "colab": {
          "base_uri": "https://localhost:8080/"
        },
        "id": "Ae-SUjoriIvS",
        "outputId": "44555b82-c738-4214-95e0-2c1c7c9922b8"
      },
      "source": [
        "\"점수는 100 점입니다\"\r\n",
        "answer=100\r\n",
        "print(\"정답은\"+str(answer)+\"점 입니다\")\r\n",
        "print(\"정답은\",str(answer),\"점 입니다.\")\r\n",
        "print(f\"정답은{answer}점 입니다\")"
      ],
      "execution_count": null,
      "outputs": [
        {
          "output_type": "stream",
          "text": [
            "정답은100점 입니다\n",
            "정답은 100 점 입니다.\n",
            "정답은100점 입니다\n"
          ],
          "name": "stdout"
        }
      ]
    },
    {
      "cell_type": "code",
      "metadata": {
        "colab": {
          "base_uri": "https://localhost:8080/"
        },
        "id": "agjcYeNyjb9u",
        "outputId": "5e86cdbc-8c16-4194-a987-aa925a82e904"
      },
      "source": [
        "#내장함수\r\n",
        "\r\n",
        "result=sum([1,3,4,5,6,7,4])\r\n",
        "print(result)\r\n",
        "\r\n",
        "\r\n",
        "result=min(7,3,4,5,6)\r\n",
        "print(result)\r\n",
        "\r\n",
        "result=max(3,4,5,6,7,8)\r\n",
        "print(result)\r\n",
        "\r\n",
        "result=eval(\"(3+5)*4*2\")\r\n",
        "print(result)\r\n",
        "\r\n",
        "\r\n",
        "result=sorted([2,5,6,3,1,4])\r\n",
        "print(result)\r\n",
        "\r\n",
        "result=sorted([1,4,3,2,5],reverse=True)\r\n",
        "print(result)"
      ],
      "execution_count": null,
      "outputs": [
        {
          "output_type": "stream",
          "text": [
            "30\n",
            "3\n",
            "8\n",
            "64\n",
            "[1, 2, 3, 4, 5, 6]\n",
            "[5, 4, 3, 2, 1]\n"
          ],
          "name": "stdout"
        }
      ]
    },
    {
      "cell_type": "code",
      "metadata": {
        "colab": {
          "base_uri": "https://localhost:8080/"
        },
        "id": "-nhkI6Zumz_e",
        "outputId": "f374b8b3-ed0d-4c37-d4a3-2f38fe9f2970"
      },
      "source": [
        "result=sorted([('짜장면','4000원'),('짬뽕','8000원'),('탕수육','14000원'),('울면','6000원'),('탕수육 대','18000원')],key=lambda x:x[1],reverse=True)\r\n",
        "print(result)"
      ],
      "execution_count": null,
      "outputs": [
        {
          "output_type": "stream",
          "text": [
            "[('탕수육 대', '18000원'), ('탕수육', '14000원'), ('짬뽕', '8000원'), ('짜장면', '4000원'), ('울면', '6000원')]\n"
          ],
          "name": "stdout"
        }
      ]
    },
    {
      "cell_type": "code",
      "metadata": {
        "id": "K1hbJGENtgys"
      },
      "source": [
        ""
      ],
      "execution_count": null,
      "outputs": []
    },
    {
      "cell_type": "code",
      "metadata": {
        "colab": {
          "base_uri": "https://localhost:8080/"
        },
        "id": "Rnq1p4_vsb0E",
        "outputId": "2ca1fd17-652c-4d11-d642-80ddb88263ef"
      },
      "source": [
        "#itertools\r\n",
        "from itertools import permutations\r\n",
        "data=['1','2','3']\r\n",
        "result=list(permutations(data,3))\r\n",
        "print(result)\r\n",
        "\r\n",
        "\r\n",
        "from itertools import combinations\r\n",
        "data=['a','b','c']\r\n",
        "result=list(combinations(data,2))\r\n",
        "print(result)\r\n",
        "\r\n",
        "\r\n",
        "from itertools import product\r\n",
        "\r\n",
        "data=['a','b','c']\r\n",
        "result=list(product(data,repeat=2))\r\n",
        "print(result)\r\n",
        "\r\n",
        "from itertools import combinations_with_replacement\r\n",
        "data=['a','b','c']\r\n",
        "result=list(combinations_with_replacement(data,2))\r\n",
        "print(result)"
      ],
      "execution_count": null,
      "outputs": [
        {
          "output_type": "stream",
          "text": [
            "[('1', '2', '3'), ('1', '3', '2'), ('2', '1', '3'), ('2', '3', '1'), ('3', '1', '2'), ('3', '2', '1')]\n",
            "[('a', 'b'), ('a', 'c'), ('b', 'c')]\n",
            "[('a', 'a'), ('a', 'b'), ('a', 'c'), ('b', 'a'), ('b', 'b'), ('b', 'c'), ('c', 'a'), ('c', 'b'), ('c', 'c')]\n",
            "[('a', 'a'), ('a', 'b'), ('a', 'c'), ('b', 'b'), ('b', 'c'), ('c', 'c')]\n"
          ],
          "name": "stdout"
        }
      ]
    },
    {
      "cell_type": "code",
      "metadata": {
        "id": "gwC_8Iw2tWaD"
      },
      "source": [
        ""
      ],
      "execution_count": null,
      "outputs": []
    },
    {
      "cell_type": "code",
      "metadata": {
        "id": "c16f4PfOp262"
      },
      "source": [
        ""
      ],
      "execution_count": null,
      "outputs": []
    }
  ]
}