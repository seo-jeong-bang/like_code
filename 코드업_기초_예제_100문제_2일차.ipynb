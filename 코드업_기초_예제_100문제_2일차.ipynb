{
  "nbformat": 4,
  "nbformat_minor": 0,
  "metadata": {
    "colab": {
      "name": "코드업 기초 예제 100문제 2일차.ipynb",
      "provenance": [],
      "authorship_tag": "ABX9TyNl49UivtO1WZ6hiZV9evhY",
      "include_colab_link": true
    },
    "kernelspec": {
      "name": "python3",
      "display_name": "Python 3"
    }
  },
  "cells": [
    {
      "cell_type": "markdown",
      "metadata": {
        "id": "view-in-github",
        "colab_type": "text"
      },
      "source": [
        "<a href=\"https://colab.research.google.com/github/seo-jeong-bang/like_code/blob/main/%EC%BD%94%EB%93%9C%EC%97%85_%EA%B8%B0%EC%B4%88_%EC%98%88%EC%A0%9C_100%EB%AC%B8%EC%A0%9C_2%EC%9D%BC%EC%B0%A8.ipynb\" target=\"_parent\"><img src=\"https://colab.research.google.com/assets/colab-badge.svg\" alt=\"Open In Colab\"/></a>"
      ]
    },
    {
      "cell_type": "code",
      "metadata": {
        "id": "svq6w8kPpCIC"
      },
      "source": [
        "1개의 단어를 입력받아 그대로 출력해보자.\r\n"
      ],
      "execution_count": null,
      "outputs": []
    },
    {
      "cell_type": "code",
      "metadata": {
        "colab": {
          "base_uri": "https://localhost:8080/"
        },
        "id": "B7AM6OM4pIOW",
        "outputId": "43a25f91-f66b-4386-97b5-ed231903762f"
      },
      "source": [
        "a=str(input())\r\n",
        "print(a)"
      ],
      "execution_count": 9,
      "outputs": [
        {
          "output_type": "stream",
          "text": [
            "안녕\n",
            "안녕\n"
          ],
          "name": "stdout"
        }
      ]
    },
    {
      "cell_type": "code",
      "metadata": {
        "colab": {
          "base_uri": "https://localhost:8080/"
        },
        "id": "aib6oQCFpP8d",
        "outputId": "bb0266d2-2fa7-405d-b362-4e7775880c5f"
      },
      "source": [
        "a=str(input())\r\n",
        "print(a)"
      ],
      "execution_count": 10,
      "outputs": [
        {
          "output_type": "stream",
          "text": [
            "안녕 하세요\n",
            "안녕 하세요\n"
          ],
          "name": "stdout"
        }
      ]
    },
    {
      "cell_type": "markdown",
      "metadata": {
        "id": "IfvdHEK9r7ex"
      },
      "source": [
        "실수 1개를 입력받아 정수 부분과 실수 부분으로 나누어 출력한다.\r\n"
      ]
    },
    {
      "cell_type": "code",
      "metadata": {
        "colab": {
          "base_uri": "https://localhost:8080/"
        },
        "id": "5kX4b_b1r9Jw",
        "outputId": "ef40e0c3-e486-401a-fe27-ba7e3b739655"
      },
      "source": [
        "a,b = input().split('.')\r\n",
        "print(a) \r\n",
        "print(b)\r\n",
        "\r\n",
        "\r\n"
      ],
      "execution_count": 43,
      "outputs": [
        {
          "output_type": "stream",
          "text": [
            "3.11\n",
            "3\n",
            "11\n"
          ],
          "name": "stdout"
        }
      ]
    },
    {
      "cell_type": "code",
      "metadata": {
        "id": "wlsfwaiUvHc7"
      },
      "source": [
        ""
      ],
      "execution_count": null,
      "outputs": []
    },
    {
      "cell_type": "markdown",
      "metadata": {
        "id": "BQlwT7Ia0I1T"
      },
      "source": [
        "단어를 1개 입력받는다.\r\n",
        "\r\n",
        "입력받은 단어(영어)의 각 문자를\r\n",
        "\r\n",
        "한줄에 한 문자씩 분리해 출력한다.\r\n"
      ]
    },
    {
      "cell_type": "code",
      "metadata": {
        "colab": {
          "base_uri": "https://localhost:8080/"
        },
        "id": "Xv8zh5mj0Jhs",
        "outputId": "eeaf4e8d-805f-4707-ad6a-05a4f752a0ef"
      },
      "source": [
        "a=list(input())\r\n",
        "for i in range (0,len(a)):\r\n",
        "   print(\"'%s'\"%a[i])"
      ],
      "execution_count": 56,
      "outputs": [
        {
          "output_type": "stream",
          "text": [
            "hello\n",
            "'h'\n",
            "'e'\n",
            "'l'\n",
            "'l'\n",
            "'o'\n"
          ],
          "name": "stdout"
        }
      ]
    },
    {
      "cell_type": "code",
      "metadata": {
        "id": "082kfkiU0PgK"
      },
      "source": [
        ""
      ],
      "execution_count": null,
      "outputs": []
    },
    {
      "cell_type": "markdown",
      "metadata": {
        "id": "sgc6YRBS3L6b"
      },
      "source": [
        "다섯 자리의 정수 1개를 입력받아 각 자리별로 나누어 출력한다.\r\n"
      ]
    },
    {
      "cell_type": "code",
      "metadata": {
        "colab": {
          "base_uri": "https://localhost:8080/",
          "height": 268
        },
        "id": "huKAPvR83Mzm",
        "outputId": "79d09bf3-a4ce-4a88-ee57-58ddebc194fd"
      },
      "source": [
        "a=list(input())\r\n",
        "for i in range(0,len(a)):\r\n",
        "\r\n",
        "  print(\"[%s0000]\"%a[0])\r\n",
        "  print('[%s000]'%a[1])\r\n",
        "  print('[%s00]'%a[2])\r\n",
        "  print('[%s0]'%a[3])\r\n",
        "  print('[%s]'%a[4])\r\n"
      ],
      "execution_count": 78,
      "outputs": [
        {
          "output_type": "stream",
          "text": [
            "30283\n"
          ],
          "name": "stdout"
        },
        {
          "output_type": "error",
          "ename": "TypeError",
          "evalue": "ignored",
          "traceback": [
            "\u001b[0;31m---------------------------------------------------------------------------\u001b[0m",
            "\u001b[0;31mTypeError\u001b[0m                                 Traceback (most recent call last)",
            "\u001b[0;32m<ipython-input-78-07b49b25879f>\u001b[0m in \u001b[0;36m<module>\u001b[0;34m()\u001b[0m\n\u001b[1;32m      1\u001b[0m \u001b[0ma\u001b[0m\u001b[0;34m=\u001b[0m\u001b[0mlist\u001b[0m\u001b[0;34m(\u001b[0m\u001b[0minput\u001b[0m\u001b[0;34m(\u001b[0m\u001b[0;34m)\u001b[0m\u001b[0;34m)\u001b[0m\u001b[0;34m\u001b[0m\u001b[0;34m\u001b[0m\u001b[0m\n\u001b[0;32m----> 2\u001b[0;31m \u001b[0;32mfor\u001b[0m \u001b[0mi\u001b[0m \u001b[0;32min\u001b[0m \u001b[0mrange\u001b[0m\u001b[0;34m(\u001b[0m\u001b[0;34m)\u001b[0m\u001b[0;34m:\u001b[0m\u001b[0;34m\u001b[0m\u001b[0;34m\u001b[0m\u001b[0m\n\u001b[0m\u001b[1;32m      3\u001b[0m \u001b[0;34m\u001b[0m\u001b[0m\n\u001b[1;32m      4\u001b[0m   \u001b[0mprint\u001b[0m\u001b[0;34m(\u001b[0m\u001b[0;34m\"[%s0000]\"\u001b[0m\u001b[0;34m%\u001b[0m\u001b[0ma\u001b[0m\u001b[0;34m[\u001b[0m\u001b[0;36m0\u001b[0m\u001b[0;34m]\u001b[0m\u001b[0;34m)\u001b[0m\u001b[0;34m\u001b[0m\u001b[0;34m\u001b[0m\u001b[0m\n\u001b[1;32m      5\u001b[0m   \u001b[0mprint\u001b[0m\u001b[0;34m(\u001b[0m\u001b[0;34m'[%s000]'\u001b[0m\u001b[0;34m%\u001b[0m\u001b[0ma\u001b[0m\u001b[0;34m[\u001b[0m\u001b[0;36m1\u001b[0m\u001b[0;34m]\u001b[0m\u001b[0;34m)\u001b[0m\u001b[0;34m\u001b[0m\u001b[0;34m\u001b[0m\u001b[0m\n",
            "\u001b[0;31mTypeError\u001b[0m: range expected 1 arguments, got 0"
          ]
        }
      ]
    },
    {
      "cell_type": "code",
      "metadata": {
        "id": "RhIyrief7mCZ"
      },
      "source": [
        "a = list(input())\r\n",
        "a[0] = int(a[0])*10000 \r\n",
        "a[1] = int(a[1])*1000 \r\n",
        "a[2] = int(a[2])*100 \r\n",
        "a[3] = int(a[3])*10 \r\n",
        "a[4] = int(a[4])*1 \r\n",
        "print(\"[%d]\" % a[0]) \r\n",
        "print(\"[%d]\" % a[1]) \r\n",
        "print(\"[%d]\" % a[2]) \r\n",
        "print(\"[%d]\" % a[3]) \r\n",
        "print(\"[%d]\" % a[4])\r\n",
        "\r\n"
      ],
      "execution_count": null,
      "outputs": []
    },
    {
      "cell_type": "markdown",
      "metadata": {
        "id": "T9BiPW0e8ZGI"
      },
      "source": [
        "입력되는 시:분:초 에서 분만 출력해보자.\r\n"
      ]
    },
    {
      "cell_type": "code",
      "metadata": {
        "colab": {
          "base_uri": "https://localhost:8080/"
        },
        "id": "jv4L6ckp8Z1X",
        "outputId": "4ddc2469-5097-4ad1-e373-e01472306762"
      },
      "source": [
        "h,m,s=input().split(\":\")\r\n",
        "print(int(m))\r\n"
      ],
      "execution_count": 80,
      "outputs": [
        {
          "output_type": "stream",
          "text": [
            "2:30:20\n",
            "20\n"
          ],
          "name": "stdout"
        }
      ]
    },
    {
      "cell_type": "markdown",
      "metadata": {
        "id": "zLnCWcpc9Yf7"
      },
      "source": [
        "년월일을 출력하는 방법은 나라마다, 형식마다 조금씩 다르다.\r\n",
        "\r\n",
        "년월일(yyyy.mm.dd)를 입력받아,\r\n",
        "\r\n",
        "일월년(dd-mm-yyyy)로 출력해보자.\r\n",
        "\r\n",
        "(단, 한 자리 일/월은 0을 붙여 두자리로, 년도도 0을 붙여 네자리로 출력한다.) \r\n"
      ]
    },
    {
      "cell_type": "code",
      "metadata": {
        "colab": {
          "base_uri": "https://localhost:8080/"
        },
        "id": "YhMVYXm69ZhF",
        "outputId": "95a0a9ba-28a0-4a18-c07e-bf01bb5e6221"
      },
      "source": [
        "y,m,d=map(int,input().split('.')) \r\n",
        "print(\"%02d\"%d,end='-')\r\n",
        "print(\"%02d\"%m,end='-')\r\n",
        "print(\"%04d\"%y)\r\n"
      ],
      "execution_count": 89,
      "outputs": [
        {
          "output_type": "stream",
          "text": [
            "2020.04.03\n",
            "03-04-2020\n"
          ],
          "name": "stdout"
        }
      ]
    },
    {
      "cell_type": "markdown",
      "metadata": {
        "id": "4Hhp7cu-AFsy"
      },
      "source": [
        "입력된 실수를 소수점 이하 11자리까지 반올림하여 출력한다.\r\n",
        "\r\n",
        "\r\n",
        "참고\r\n",
        "%.11lf 를 사용하면 소수점 이하 11자리까지 출력된다.\r\n"
      ]
    },
    {
      "cell_type": "code",
      "metadata": {
        "colab": {
          "base_uri": "https://localhost:8080/"
        },
        "id": "WLVXWJ-GAGtH",
        "outputId": "acdcc2d6-96ad-42ae-f03d-c91c8ea56aef"
      },
      "source": [
        "a=float(input())\r\n",
        "print(round(float(a),12))\r\n",
        "\r\n",
        "\r\n"
      ],
      "execution_count": 95,
      "outputs": [
        {
          "output_type": "stream",
          "text": [
            "3.3947937455222111\n",
            "3.394793745522\n"
          ],
          "name": "stdout"
        }
      ]
    },
    {
      "cell_type": "code",
      "metadata": {
        "colab": {
          "base_uri": "https://localhost:8080/"
        },
        "id": "veld7ya43q6c",
        "outputId": "aaa048e9-ff61-44a1-dd06-cbc115f17ed2"
      },
      "source": [
        "a=float(input())\r\n",
        "print(\"%0.11f\"%a)"
      ],
      "execution_count": 96,
      "outputs": [
        {
          "output_type": "stream",
          "text": [
            "3.2937464638282\n",
            "3.29374646383\n"
          ],
          "name": "stdout"
        }
      ]
    }
  ]
}