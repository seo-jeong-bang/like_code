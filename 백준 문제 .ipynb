{
  "nbformat": 4,
  "nbformat_minor": 0,
  "metadata": {
    "colab": {
      "name": "Untitled9.ipynb",
      "provenance": [],
      "authorship_tag": "ABX9TyMm5skRlU30b05QhaW4hU7/",
      "include_colab_link": true
    },
    "kernelspec": {
      "name": "python3",
      "display_name": "Python 3"
    }
  },
  "cells": [
    {
      "cell_type": "markdown",
      "metadata": {
        "id": "view-in-github",
        "colab_type": "text"
      },
      "source": [
        "<a href=\"https://colab.research.google.com/github/seo-jeong-bang/like_code/blob/main/%EB%B0%B1%EC%A4%80%20%EB%AC%B8%EC%A0%9C%20.ipynb\" target=\"_parent\"><img src=\"https://colab.research.google.com/assets/colab-badge.svg\" alt=\"Open In Colab\"/></a>"
      ]
    },
    {
      "cell_type": "code",
      "metadata": {
        "colab": {
          "base_uri": "https://localhost:8080/"
        },
        "id": "LTlGR00nliXa",
        "outputId": "4187e341-53ee-48cc-c696-718a07d90a97"
      },
      "source": [
        "a,b=map(int,input().split())\r\n",
        "\r\n",
        "if a>b:\r\n",
        "  print(\">\")\r\n",
        "elif a==b:\r\n",
        "  print(\"=\")\r\n",
        "else: \r\n",
        "  print(\"<\")\r\n"
      ],
      "execution_count": null,
      "outputs": [
        {
          "output_type": "stream",
          "text": [
            "5 10\n",
            "<\n"
          ],
          "name": "stdout"
        }
      ]
    },
    {
      "cell_type": "markdown",
      "metadata": {
        "id": "mzMDms86vkPe"
      },
      "source": [
        "흔한 수학 문제 중 하나는 주어진 점이 어느 사분면에 속하는지 알아내는 것이다. 사분면은 아래 그림처럼 1부터 4까지 번호를 갖는다. \"Quadrant n\"은 \"제n사분면\"이라는 뜻이다.\r\n",
        "\r\n",
        "\r\n",
        "\r\n",
        "예를 들어, 좌표가 (12, 5)인 점 A는 x좌표와 y좌표가 모두 양수이므로 제1사분면에 속한다. 점 B는 x좌표가 음수이고 y좌표가 양수이므로 제2사분면에 속한다.\r\n",
        "\r\n",
        "점의 좌표를 입력받아 그 점이 어느 사분면에 속하는지 알아내는 프로그램을 작성하시오. 단, x좌표와 y좌표는 모두 양수나 음수라고 가정한다.\r\n",
        "\r\n",
        "입력\r\n",
        "첫 줄에는 정수 x가 주어진다. (−1000 ≤ x ≤ 1000; x ≠ 0) 다음 줄에는 정수 y가 주어진다. (−1000 ≤ y ≤ 1000; y ≠ 0)"
      ]
    },
    {
      "cell_type": "code",
      "metadata": {
        "colab": {
          "base_uri": "https://localhost:8080/"
        },
        "id": "pui8ecs3r1hB",
        "outputId": "0e496c2d-4ab8-44d9-9b79-ae11cf387575"
      },
      "source": [
        "x,y=map(int,input().split())\r\n",
        "if x<0 and y>0:\r\n",
        "     print(\"1사분면\")\r\n",
        "elif x>0 and y>0:\r\n",
        "    print(\"2사분면\")\r\n",
        "elif x<0 and y<0:\r\n",
        "    print(\"3사분면\")\r\n",
        "else:\r\n",
        "     print(\"4사분면\")    "
      ],
      "execution_count": null,
      "outputs": [
        {
          "output_type": "stream",
          "text": [
            "-5 10\n",
            "1사분면\n"
          ],
          "name": "stdout"
        }
      ]
    },
    {
      "cell_type": "markdown",
      "metadata": {
        "id": "YgClAk94vp1u"
      },
      "source": [
        "문제\r\n",
        "상근이는 매일 아침 알람을 듣고 일어난다. 알람을 듣고 바로 일어나면 다행이겠지만, 항상 조금만 더 자려는 마음 때문에 매일 학교를 지각하고 있다.\r\n",
        "\r\n",
        "상근이는 모든 방법을 동원해보았지만, 조금만 더 자려는 마음은 그 어떤 것도 없앨 수가 없었다.\r\n",
        "\r\n",
        "이런 상근이를 불쌍하게 보던, 창영이는 자신이 사용하는 방법을 추천해 주었다.\r\n",
        "\r\n",
        "바로 \"45분 일찍 알람 설정하기\"이다.\r\n",
        "\r\n",
        "이 방법은 단순하다. 원래 설정되어 있는 알람을 45분 앞서는 시간으로 바꾸는 것이다. 어차피 알람 소리를 들으면, 알람을 끄고 조금 더 잘 것이기 때문이다. 이 방법을 사용하면, 매일 아침 더 잤다는 기분을 느낄 수 있고, 학교도 지각하지 않게 된다.\r\n",
        "\r\n",
        "현재 상근이가 설정한 알람 시각이 주어졌을 때, 창영이의 방법을 사용한다면, 이를 언제로 고쳐야 하는지 구하는 프로그램을 작성하시오.\r\n",
        "\r\n",
        "입력\r\n",
        "첫째 줄에 두 정수 H와 M이 주어진다. (0 ≤ H ≤ 23, 0 ≤ M ≤ 59) 그리고 이것은 현재 상근이가 설정한 놓은 알람 시간 H시 M분을 의미한다.\r\n",
        "\r\n",
        "입력 시간은 24시간 표현을 사용한다. 24시간 표현에서 하루의 시작은 0:0(자정)이고, 끝은 23:59(다음날 자정 1분 전)이다. 시간을 나타낼 때, 불필요한 0은 사용하지 않는다."
      ]
    },
    {
      "cell_type": "code",
      "metadata": {
        "colab": {
          "base_uri": "https://localhost:8080/"
        },
        "id": "zWIOivVOwEBA",
        "outputId": "5bba8a0f-6e0d-41f7-ba67-6343b6e9ab92"
      },
      "source": [
        "h,m=map(int,input().split())\r\n",
        "if m>=45:\r\n",
        "  print(h,m-45)\r\n",
        "elif h>0 and m<45:\r\n",
        "  print(h-1,m+15)\r\n",
        "elif h==0 and m<45:\r\n",
        "  print(23,m+15)\r\n",
        "\r\n",
        "\r\n"
      ],
      "execution_count": null,
      "outputs": [
        {
          "output_type": "stream",
          "text": [
            "0 50\n",
            "0 5\n"
          ],
          "name": "stdout"
        }
      ]
    }
  ]
}