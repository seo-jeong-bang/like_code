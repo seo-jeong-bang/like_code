{
  "nbformat": 4,
  "nbformat_minor": 0,
  "metadata": {
    "colab": {
      "name": "코드업 기초예제 100문제 3일차.ipynb",
      "provenance": [],
      "authorship_tag": "ABX9TyM7AiiQVPCjfVf5q+BKCZw3",
      "include_colab_link": true
    },
    "kernelspec": {
      "name": "python3",
      "display_name": "Python 3"
    }
  },
  "cells": [
    {
      "cell_type": "markdown",
      "metadata": {
        "id": "view-in-github",
        "colab_type": "text"
      },
      "source": [
        "<a href=\"https://colab.research.google.com/github/seo-jeong-bang/like_code/blob/main/%EC%BD%94%EB%93%9C%EC%97%85_%EA%B8%B0%EC%B4%88%EC%98%88%EC%A0%9C_100%EB%AC%B8%EC%A0%9C_3%EC%9D%BC%EC%B0%A8.ipynb\" target=\"_parent\"><img src=\"https://colab.research.google.com/assets/colab-badge.svg\" alt=\"Open In Colab\"/></a>"
      ]
    },
    {
      "cell_type": "code",
      "metadata": {
        "id": "o7rjGFeODFWI"
      },
      "source": [
        ""
      ],
      "execution_count": null,
      "outputs": []
    },
    {
      "cell_type": "markdown",
      "metadata": {
        "id": "0zooJkRcDMHx"
      },
      "source": [
        "10진수를 입력받아 8진수(octal)로 출력해보자.\r\n"
      ]
    },
    {
      "cell_type": "code",
      "metadata": {
        "colab": {
          "base_uri": "https://localhost:8080/"
        },
        "id": "_K2o9ByKDrvs",
        "outputId": "a3e43628-2fde-4f7d-b163-7c0be6af16cc"
      },
      "source": [
        "a=int(input())\r\n",
        "print(\"%o\"%a)\r\n"
      ],
      "execution_count": 1,
      "outputs": [
        {
          "output_type": "stream",
          "text": [
            "34\n",
            "42\n"
          ],
          "name": "stdout"
        }
      ]
    },
    {
      "cell_type": "markdown",
      "metadata": {
        "id": "34EaIrTCEYZ1"
      },
      "source": [
        "10진수를 입력받아 16진수(hexadecimal)로 출력해보자."
      ]
    },
    {
      "cell_type": "code",
      "metadata": {
        "colab": {
          "base_uri": "https://localhost:8080/"
        },
        "id": "CoKKWPHsEZHA",
        "outputId": "5347d57d-6bd6-4707-c1d4-9761d3cefe6c"
      },
      "source": [
        "a=int(input())\r\n",
        "print(\"%x\"%a)"
      ],
      "execution_count": 2,
      "outputs": [
        {
          "output_type": "stream",
          "text": [
            "34\n",
            "22\n"
          ],
          "name": "stdout"
        }
      ]
    },
    {
      "cell_type": "markdown",
      "metadata": {
        "id": "0qxsmVauEtgu"
      },
      "source": [
        "10진수를 입력받아 16진수(hexadecimal)로 출력해보자.\r\n",
        "\r\n",
        "참고\r\n",
        "%d(10진수 형태)로 입력받고\r\n",
        "%X로 출력하면 16진수(hexadecimal) 대문자로 출력된다."
      ]
    },
    {
      "cell_type": "code",
      "metadata": {
        "colab": {
          "base_uri": "https://localhost:8080/"
        },
        "id": "_v5L74XuEuj8",
        "outputId": "df946096-69db-43f9-d86f-465542600ec4"
      },
      "source": [
        "a=int(input())\r\n",
        "print(\"%X\"%a)"
      ],
      "execution_count": 3,
      "outputs": [
        {
          "output_type": "stream",
          "text": [
            "333333\n",
            "51615\n"
          ],
          "name": "stdout"
        }
      ]
    },
    {
      "cell_type": "markdown",
      "metadata": {
        "id": "hHdfO_VYFD1o"
      },
      "source": [
        "8진수로 입력된 정수 1개를 10진수로 바꾸어 출력해보자."
      ]
    },
    {
      "cell_type": "code",
      "metadata": {
        "colab": {
          "base_uri": "https://localhost:8080/"
        },
        "id": "rck7OQbnEgKo",
        "outputId": "15c1e5cd-1876-4a41-b3a1-a6afecf0dd18"
      },
      "source": [
        "a=int(input(),8)\r\n",
        "print(\"%d\"%a)\r\n"
      ],
      "execution_count": 5,
      "outputs": [
        {
          "output_type": "stream",
          "text": [
            "33\n",
            "27\n"
          ],
          "name": "stdout"
        }
      ]
    },
    {
      "cell_type": "markdown",
      "metadata": {
        "id": "rz1ZvblVGIv6"
      },
      "source": [
        "16진수로 입력된 정수 1개를 8진수로 바꾸어 출력해보자."
      ]
    },
    {
      "cell_type": "code",
      "metadata": {
        "colab": {
          "base_uri": "https://localhost:8080/"
        },
        "id": "cS_GTj7fFpfi",
        "outputId": "a3e7f6db-b9af-413f-e5f3-44f8d6c7ca7a"
      },
      "source": [
        "a=int(input(),16)\r\n",
        "print(\"%o\"%a)\r\n"
      ],
      "execution_count": 9,
      "outputs": [
        {
          "output_type": "stream",
          "text": [
            "33\n",
            "63\n"
          ],
          "name": "stdout"
        }
      ]
    },
    {
      "cell_type": "markdown",
      "metadata": {
        "id": "t2IT-EUUGrcH"
      },
      "source": [
        "영문자 1개를 입력받아 아스키 코드표의 10진수 값으로 출력해보자."
      ]
    },
    {
      "cell_type": "code",
      "metadata": {
        "colab": {
          "base_uri": "https://localhost:8080/"
        },
        "id": "eSY-ls9lGPlY",
        "outputId": "6bfca421-cb37-4ba3-d5b2-cc25b72b504a"
      },
      "source": [
        "a=ord(input())\r\n",
        "print(a)"
      ],
      "execution_count": 11,
      "outputs": [
        {
          "output_type": "stream",
          "text": [
            "a\n",
            "97\n"
          ],
          "name": "stdout"
        }
      ]
    },
    {
      "cell_type": "markdown",
      "metadata": {
        "id": "9kMBL0QEIobd"
      },
      "source": [
        "10진 정수 1개를 입력받아 아스키 문자로 출력해보자."
      ]
    },
    {
      "cell_type": "code",
      "metadata": {
        "colab": {
          "base_uri": "https://localhost:8080/"
        },
        "id": "Yr4nt_TJIqrS",
        "outputId": "500308c1-979f-48b1-bdab-f8ad8a0a42db"
      },
      "source": [
        "a=chr(int(input()))\r\n",
        "print(a)\r\n"
      ],
      "execution_count": 17,
      "outputs": [
        {
          "output_type": "stream",
          "text": [
            "44\n",
            ",\n"
          ],
          "name": "stdout"
        }
      ]
    },
    {
      "cell_type": "markdown",
      "metadata": {
        "id": "N4EDMYMNKXkU"
      },
      "source": [
        "정수 2개를 입력받아 합을 출력하는 프로그램을 작성해보자."
      ]
    },
    {
      "cell_type": "code",
      "metadata": {
        "colab": {
          "base_uri": "https://localhost:8080/"
        },
        "id": "EqM88jgYJD1q",
        "outputId": "8f589ff4-12e8-42c9-8d3a-006efd294652"
      },
      "source": [
        "a,b=map(int,input().split())\r\n",
        "print(a+b)\r\n"
      ],
      "execution_count": 20,
      "outputs": [
        {
          "output_type": "stream",
          "text": [
            "33 4\n",
            "37\n"
          ],
          "name": "stdout"
        }
      ]
    },
    {
      "cell_type": "markdown",
      "metadata": {
        "id": "IekQAIVSK6NU"
      },
      "source": [
        "입력된 정수의 부호를 바꿔 출력해보자."
      ]
    },
    {
      "cell_type": "code",
      "metadata": {
        "colab": {
          "base_uri": "https://localhost:8080/"
        },
        "id": "957Q1EqlK7VR",
        "outputId": "3aeb6e28-4ace-45c9-c578-050498d0141f"
      },
      "source": [
        "a=int(input())\r\n",
        "print(-a)"
      ],
      "execution_count": 21,
      "outputs": [
        {
          "output_type": "stream",
          "text": [
            "3\n",
            "-3\n"
          ],
          "name": "stdout"
        }
      ]
    },
    {
      "cell_type": "markdown",
      "metadata": {
        "id": "f6d_hnAdLy7d"
      },
      "source": [
        "영문자 1개를 입력받아 그 다음 문자를 출력해보자.\r\n",
        "\r\n",
        "영문자 'A'의 다음 문자는 'B'이고, 영문자 '0'의 다음 문자는 '1'이다."
      ]
    },
    {
      "cell_type": "code",
      "metadata": {
        "colab": {
          "base_uri": "https://localhost:8080/"
        },
        "id": "SaLlJxODKdny",
        "outputId": "12da9247-e723-4259-e85b-600392a247ee"
      },
      "source": [
        "a = ord(input())\r\n",
        "a = a+1\r\n",
        "a = chr(a)\r\n",
        "\r\n",
        "print(a)\r\n"
      ],
      "execution_count": 27,
      "outputs": [
        {
          "output_type": "stream",
          "text": [
            "a\n",
            "b\n"
          ],
          "name": "stdout"
        }
      ]
    },
    {
      "cell_type": "code",
      "metadata": {
        "id": "zUPkhxh-LaRJ"
      },
      "source": [
        ""
      ],
      "execution_count": null,
      "outputs": []
    }
  ]
}