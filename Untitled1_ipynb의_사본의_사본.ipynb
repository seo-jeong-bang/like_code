{
  "nbformat": 4,
  "nbformat_minor": 0,
  "metadata": {
    "colab": {
      "name": "Untitled1.ipynb의 사본의 사본",
      "provenance": [],
      "authorship_tag": "ABX9TyMTxBPn2zuFo5TEk/oSug+f",
      "include_colab_link": true
    },
    "kernelspec": {
      "name": "python3",
      "display_name": "Python 3"
    }
  },
  "cells": [
    {
      "cell_type": "markdown",
      "metadata": {
        "id": "view-in-github",
        "colab_type": "text"
      },
      "source": [
        "<a href=\"https://colab.research.google.com/github/seo-jeong-bang/like_code/blob/main/Untitled1_ipynb%EC%9D%98_%EC%82%AC%EB%B3%B8%EC%9D%98_%EC%82%AC%EB%B3%B8.ipynb\" target=\"_parent\"><img src=\"https://colab.research.google.com/assets/colab-badge.svg\" alt=\"Open In Colab\"/></a>"
      ]
    },
    {
      "cell_type": "code",
      "metadata": {
        "id": "i9D7rMahCzhT",
        "colab": {
          "base_uri": "https://localhost:8080/"
        },
        "outputId": "62e87b97-82bd-4367-9334-2c6ac91de5fb"
      },
      "source": [
        "\r\n",
        "!git clone https://github.com/seo-jeong-bang/bsj9708.git '/gdrive/My Drive/ColabNotebooks/'\r\n",
        "\r\n"
      ],
      "execution_count": 12,
      "outputs": [
        {
          "output_type": "stream",
          "text": [
            "fatal: destination path '/gdrive/My Drive/ColabNotebooks' already exists and is not an empty directory.\n"
          ],
          "name": "stdout"
        }
      ]
    },
    {
      "cell_type": "code",
      "metadata": {
        "id": "wQPoJe0Fd4Kl",
        "colab": {
          "base_uri": "https://localhost:8080/",
          "height": 138
        },
        "outputId": "8a610584-4a93-4077-f9cd-19df13139548"
      },
      "source": [
        "https://github.com/seo-jeong-bang/code-child.git\r\n"
      ],
      "execution_count": null,
      "outputs": [
        {
          "output_type": "error",
          "ename": "SyntaxError",
          "evalue": "ignored",
          "traceback": [
            "\u001b[0;36m  File \u001b[0;32m\"<ipython-input-1-34e527779de7>\"\u001b[0;36m, line \u001b[0;32m1\u001b[0m\n\u001b[0;31m    https://github.com/seo-jeong-bang/code-child.git\u001b[0m\n\u001b[0m           ^\u001b[0m\n\u001b[0;31mSyntaxError\u001b[0m\u001b[0;31m:\u001b[0m invalid syntax\n"
          ]
        }
      ]
    },
    {
      "cell_type": "markdown",
      "metadata": {
        "id": "qF4qWszrDF09"
      },
      "source": [
        "<1>자료형\r\n",
        "-수 자료형\r\n"
      ]
    },
    {
      "cell_type": "code",
      "metadata": {
        "colab": {
          "base_uri": "https://localhost:8080/"
        },
        "id": "_QzZumKmDKHt",
        "outputId": "83b50c58-fec4-48b7-97e1-8950898e86fd"
      },
      "source": [
        "#정수형\r\n",
        "#양의 정수\r\n",
        "a=1000\r\n",
        "print(a)\r\n",
        "#음의 정수\r\n",
        "a=-7\r\n",
        "print(a)\r\n",
        "\r\n",
        "\r\n",
        "#실수형\r\n",
        "#양의 실수\r\n",
        "a=157.93\r\n",
        "print(a)\r\n",
        "\r\n",
        "#음의 실수\r\n",
        "a=-1634.98\r\n",
        "print(a)\r\n",
        "\r\n",
        "#소수부가 0일때 0 생략 \r\n",
        "a=5.\r\n",
        "print(a)\r\n",
        "\r\n",
        "#10억의 지수 표현\r\n",
        "a=1e9\r\n",
        "print(a)\r\n",
        "\r\n",
        "#752.5\r\n",
        "a=75.25e1\r\n",
        "print(a)\r\n",
        "\r\n",
        "#3.954\r\n",
        "a=3954e-3\r\n",
        "print(a)\r\n",
        "\r\n",
        "\r\n",
        "a=0.3+0.6\r\n",
        "print(round(a,4))\r\n",
        "\r\n",
        "if round(a,4)==0.9:\r\n",
        "  print(True)\r\n",
        "else:\r\n",
        "  print(False)\r\n",
        "  \r\n",
        "    "
      ],
      "execution_count": null,
      "outputs": [
        {
          "output_type": "stream",
          "text": [
            "1000\n",
            "-7\n",
            "157.93\n",
            "-1634.98\n",
            "5.0\n",
            "1000000000.0\n",
            "752.5\n",
            "3.954\n",
            "0.9\n",
            "True\n"
          ],
          "name": "stdout"
        }
      ]
    },
    {
      "cell_type": "code",
      "metadata": {
        "colab": {
          "base_uri": "https://localhost:8080/"
        },
        "id": "mWAQZybhEwiz",
        "outputId": "869cfe6b-9910-42c9-fa8b-dce7187a87fe"
      },
      "source": [
        "#수 자료형의 연산\r\n",
        "\r\n",
        "a=5\r\n",
        "b=7\r\n",
        "\r\n",
        "#나누기\r\n",
        "print(a/b)\r\n",
        "print(round(a/b,4))\r\n",
        "#나머지\r\n",
        "print(a%b)\r\n",
        "\r\n",
        "#몫\r\n",
        "print(a//b)\r\n",
        "\r\n",
        "#거듭제곱\r\n",
        "print(a**b)"
      ],
      "execution_count": null,
      "outputs": [
        {
          "output_type": "stream",
          "text": [
            "0.7142857142857143\n",
            "0.7143\n",
            "5\n",
            "0\n",
            "78125\n"
          ],
          "name": "stdout"
        }
      ]
    },
    {
      "cell_type": "code",
      "metadata": {
        "colab": {
          "base_uri": "https://localhost:8080/"
        },
        "id": "h91cGlFJGMN0",
        "outputId": "024d75af-a2d7-45a2-a07a-115ee9096d89"
      },
      "source": [
        "#리스트 자료형\r\n",
        "\r\n",
        "a=[1,2,3,4,5,6,7,8,9]\r\n",
        "print(a)\r\n",
        "#3출력\r\n",
        "print(a[2])\r\n",
        "\r\n",
        "#빈리스트 출력\r\n",
        "a=list()\r\n",
        "a=[]\r\n",
        "print(a)\r\n",
        "print(a)\r\n",
        "\r\n",
        "\r\n",
        "#리스트 초기화\r\n",
        "#크기가 n이고 모든 값이 0인 1차원 리스트 초기화\r\n",
        "n=4\r\n",
        "a=[0]*n\r\n",
        "print(a)\r\n",
        "\r\n",
        "\r\n",
        "#리스트의 인덱싱과 슬라이싱\r\n",
        "\r\n",
        "a=[1,2,3,4,5,6,7,8,9]\r\n",
        "print(a[-1])\r\n",
        "print(a[8])\r\n",
        "a[5]=4\r\n",
        "print(a)\r\n",
        "print(a[::-1])\r\n",
        "\r\n",
        "#리스트 컴프리헨션\r\n",
        "#0부터 10까지 수 중에 홀수만 포함하는 리스트\r\n",
        "array=[i for i in range(11) if i %2 ==1]\r\n",
        "print(array)\r\n",
        "\r\n",
        "#2차원 리스트 초기화\r\n",
        "n=3\r\n",
        "m=4\r\n",
        "array=[[0]*m for _ in range(n) ]\r\n",
        "print(array)\r\n",
        "\r\n",
        "#리스트 관련 기타 매서드\r\n",
        "a=[1,2,3,4,5,6]\r\n",
        "#삽입\r\n",
        "a.append(-1)\r\n",
        "print(a)\r\n",
        "#오름차순 정렬\r\n",
        "a.sort()\r\n",
        "print(a)\r\n",
        "#내림차순 정렬\r\n",
        "a.sort(reverse=True)\r\n",
        "print(a)\r\n",
        "\r\n",
        "a.reverse()\r\n",
        "print(a)\r\n",
        "\r\n",
        "# 특정 인덱스 추가\r\n",
        "a.insert(1,-2)\r\n",
        "print(a)\r\n",
        "\r\n",
        "#특정 값인 데이터 개수 세기\r\n",
        "print(a.count(3))\r\n",
        "\r\n",
        "#특정값 데이터 삭제\r\n",
        "a.remove(4)\r\n",
        "print(a)\r\n",
        "\r\n",
        "a=[1,2,3,4,5,6,7]\r\n",
        "remove_set={2,3}\r\n",
        "result=[i for i in a if i not in remove_set ]\r\n",
        "print(result)"
      ],
      "execution_count": null,
      "outputs": [
        {
          "output_type": "stream",
          "text": [
            "[1, 2, 3, 4, 5, 6, 7, 8, 9]\n",
            "3\n",
            "[]\n",
            "[]\n",
            "[0, 0, 0, 0]\n",
            "9\n",
            "9\n",
            "[1, 2, 3, 4, 5, 4, 7, 8, 9]\n",
            "[9, 8, 7, 4, 5, 4, 3, 2, 1]\n",
            "[1, 3, 5, 7, 9]\n",
            "[[0, 0, 0, 0], [0, 0, 0, 0], [0, 0, 0, 0]]\n",
            "[1, 2, 3, 4, 5, 6, -1]\n",
            "[-1, 1, 2, 3, 4, 5, 6]\n",
            "[6, 5, 4, 3, 2, 1, -1]\n",
            "[-1, 1, 2, 3, 4, 5, 6]\n",
            "[-1, -2, 1, 2, 3, 4, 5, 6]\n",
            "1\n",
            "[-1, -2, 1, 2, 3, 5, 6]\n",
            "[1, 4, 5, 6, 7]\n"
          ],
          "name": "stdout"
        }
      ]
    },
    {
      "cell_type": "code",
      "metadata": {
        "colab": {
          "base_uri": "https://localhost:8080/"
        },
        "id": "IMIIZlhKPvo9",
        "outputId": "cdc11abc-5d3f-4d53-9562-72bf021b57e1"
      },
      "source": [
        "#문자열 \r\n",
        "a='hello'\r\n",
        "print(a)\r\n",
        "\r\n",
        "a=\"abcde\"\r\n",
        "print(a[1:3])\r\n",
        "\r\n",
        "#딕셔너리\r\n",
        "\r\n",
        "data=dict()\r\n",
        "data[\"짬뽕\"]='5000원'\r\n",
        "data[\"짜장면\"]=\"4000원\"\r\n",
        "data[\"탕수육\"]=\"14000원\"\r\n",
        "\r\n",
        "print(data)\r\n",
        "\r\n",
        "if \"마라탕\" in data:\r\n",
        "  print('이 메뉴는 존재합니다.')\r\n",
        "else:\r\n",
        "  print(\"이 메뉴는 존재하지 않습니다\")\r\n",
        "\r\n",
        "\r\n",
        "key_list = data.keys()\r\n",
        "print(key_list)\r\n",
        "\r\n",
        "value_list=data.values()\r\n",
        "print(value_list)\r\n",
        "\r\n",
        "#각 키에 따른 값을 하나씩 출력\r\n",
        "for key in key_list:\r\n",
        "  print(data[key])\r\n",
        "\r\n",
        "data=set([1,2,3,3,4,5,6,7,7])\r\n",
        "print(data)\r\n",
        "\r\n",
        "data={1,2,3,4,5,5}\r\n",
        "print(data)\r\n",
        "\r\n",
        "\r\n",
        "#집합 자료형의 연산\r\n",
        "\r\n",
        "a=set([1,2,3,4,5])\r\n",
        "b=set([2,3,5,6,7])\r\n",
        "print(a|b) #합집합\r\n",
        "print(a&b) #교집합\r\n",
        "print(a-b) #차집합\r\n",
        "\r\n",
        "data=set([1,2,3])\r\n",
        "print(data)\r\n",
        "\r\n",
        "data.add(4)\r\n",
        "print(data)\r\n",
        "\r\n",
        "data.update([5,6,7])\r\n",
        "print(data)\r\n",
        "\r\n",
        "data.remove(4)\r\n",
        "print(data)\r\n",
        "\r\n"
      ],
      "execution_count": null,
      "outputs": [
        {
          "output_type": "stream",
          "text": [
            "hello\n",
            "bc\n",
            "{'짬뽕': '5000원', '짜장면': '4000원', '탕수육': '14000원'}\n",
            "이 메뉴는 존재하지 않습니다\n",
            "dict_keys(['짬뽕', '짜장면', '탕수육'])\n",
            "dict_values(['5000원', '4000원', '14000원'])\n",
            "5000원\n",
            "4000원\n",
            "14000원\n",
            "{1, 2, 3, 4, 5, 6, 7}\n",
            "{1, 2, 3, 4, 5}\n",
            "{1, 2, 3, 4, 5, 6, 7}\n",
            "{2, 3, 5}\n",
            "{1, 4}\n",
            "{1, 2, 3}\n",
            "{1, 2, 3, 4}\n",
            "{1, 2, 3, 4, 5, 6, 7}\n",
            "{1, 2, 3, 5, 6, 7}\n"
          ],
          "name": "stdout"
        }
      ]
    }
  ]
}