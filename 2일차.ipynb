{
  "nbformat": 4,
  "nbformat_minor": 0,
  "metadata": {
    "colab": {
      "name": "Untitled0.ipynb",
      "provenance": [],
      "authorship_tag": "ABX9TyOhj6fn/zokK7a1bQXSCDVL",
      "include_colab_link": true
    },
    "kernelspec": {
      "name": "python3",
      "display_name": "Python 3"
    }
  },
  "cells": [
    {
      "cell_type": "markdown",
      "metadata": {
        "id": "view-in-github",
        "colab_type": "text"
      },
      "source": [
        "<a href=\"https://colab.research.google.com/github/seo-jeong-bang/like_code/blob/main/2%EC%9D%BC%EC%B0%A8.ipynb\" target=\"_parent\"><img src=\"https://colab.research.google.com/assets/colab-badge.svg\" alt=\"Open In Colab\"/></a>"
      ]
    },
    {
      "cell_type": "code",
      "metadata": {
        "colab": {
          "base_uri": "https://localhost:8080/"
        },
        "id": "uwehm0ORtnDk",
        "outputId": "f718ba26-2cd5-4f83-f1a4-6346e21048d7"
      },
      "source": [
        "#조건문\r\n",
        "x=15\r\n",
        "if x >= 10:\r\n",
        "  print(x)\r\n",
        "\r\n",
        "\r\n",
        "score=80\r\n",
        "if score>=90:\r\n",
        "    print(\"A\")\r\n",
        "elif score>=80:\r\n",
        "    print(\"B\")\r\n",
        "elif score>=70:\r\n",
        "     print(\"C\")\r\n",
        "else:\r\n",
        "    print(\"D\")\r\n",
        "\r\n",
        "\r\n",
        "score=85\r\n",
        "if score >=70:\r\n",
        "  print(\"성적이 70점 이상입니다\")\r\n",
        "  if score >=90:\r\n",
        "    print(\"우수한 성적입니다\")\r\n",
        "else:\r\n",
        "  print(\"성적이 70점 미만입니다.\")    \r\n",
        "  print(\"조금 더 분발하세요\")\r\n",
        "\r\n",
        "\r\n",
        "\r\n"
      ],
      "execution_count": 20,
      "outputs": [
        {
          "output_type": "stream",
          "text": [
            "15\n",
            "B\n",
            "성적이 70점 이상입니다\n"
          ],
          "name": "stdout"
        }
      ]
    },
    {
      "cell_type": "code",
      "metadata": {
        "colab": {
          "base_uri": "https://localhost:8080/"
        },
        "id": "7XVvwQZPvRmw",
        "outputId": "d67267ac-24ee-40b5-d2e9-aa9c9fd43865"
      },
      "source": [
        "score=85\r\n",
        "result=\"succsee\" if score>=80 else \"fail\"\r\n",
        "\r\n",
        "print(result)\r\n"
      ],
      "execution_count": 21,
      "outputs": [
        {
          "output_type": "stream",
          "text": [
            "succsee\n"
          ],
          "name": "stdout"
        }
      ]
    },
    {
      "cell_type": "code",
      "metadata": {
        "colab": {
          "base_uri": "https://localhost:8080/"
        },
        "id": "cB_iFGPov5qu",
        "outputId": "7f86af91-ba51-4fb6-ddaf-7581b6dc8988"
      },
      "source": [
        "a=[1,2,3,4,5,5,5,]\r\n",
        "remove_set={3,5}\r\n",
        "\r\n",
        "result=[i for i in a if i not in remove_set]\r\n",
        "print(result)"
      ],
      "execution_count": 22,
      "outputs": [
        {
          "output_type": "stream",
          "text": [
            "[1, 2, 4]\n"
          ],
          "name": "stdout"
        }
      ]
    },
    {
      "cell_type": "code",
      "metadata": {
        "id": "oXmgHaoe3tZe"
      },
      "source": [
        ""
      ],
      "execution_count": null,
      "outputs": []
    },
    {
      "cell_type": "code",
      "metadata": {
        "colab": {
          "base_uri": "https://localhost:8080/"
        },
        "id": "RX94JZEEwh8b",
        "outputId": "dbbb8f77-0987-4c88-8abe-247934f17086"
      },
      "source": [
        "#반복문\r\n",
        "#while문\r\n",
        "i=1\r\n",
        "result=0\r\n",
        "while i<=9:\r\n",
        "     result+=i\r\n",
        "     i+=1\r\n",
        "print(result)\r\n",
        "\r\n",
        "\r\n",
        "\r\n",
        "\r\n",
        "i=1\r\n",
        "result=0\r\n",
        "while i<=9:\r\n",
        "  if i %2==1:\r\n",
        "    result +=i\r\n",
        "  i+=1\r\n",
        "print(result)    \r\n",
        "\r\n",
        "#for문\r\n",
        "result=0\r\n",
        "for i in range(1,10):\r\n",
        "  result +=i\r\n",
        "print(result)\r\n",
        "\r\n",
        "\r\n",
        "scores=[90,85,77,65,97]\r\n",
        "\r\n",
        "for i in range(5):\r\n",
        "  if scores[i]>=80:\r\n",
        "    print(i+1,\"번 학생은 합격입니다.\")\r\n",
        "\r\n",
        "\r\n",
        "\r\n",
        "\r\n",
        "scores=[90,85,77,65,97]\r\n",
        "cheating_list={2,4}\r\n",
        "for i in range(5):\r\n",
        "    if i in cheating_list:\r\n",
        "        continue\r\n",
        "    if scores[i]>=70:\r\n",
        "      print(i+1,\"번 학생은 합격입니다\")\r\n",
        "\r\n",
        "\r\n",
        "\r\n",
        "\r\n"
      ],
      "execution_count": 35,
      "outputs": [
        {
          "output_type": "stream",
          "text": [
            "45\n",
            "25\n",
            "45\n",
            "1 번 학생은 합격입니다.\n",
            "2 번 학생은 합격입니다.\n",
            "5 번 학생은 합격입니다.\n",
            "1 번 학생은 합격입니다\n",
            "2 번 학생은 합격입니다\n"
          ],
          "name": "stdout"
        }
      ]
    },
    {
      "cell_type": "code",
      "metadata": {
        "id": "xp96yFNSCjT1"
      },
      "source": [
        ""
      ],
      "execution_count": null,
      "outputs": []
    },
    {
      "cell_type": "code",
      "metadata": {
        "id": "IjXG8C87Cr1C"
      },
      "source": [
        ""
      ],
      "execution_count": null,
      "outputs": []
    },
    {
      "cell_type": "code",
      "metadata": {
        "colab": {
          "base_uri": "https://localhost:8080/"
        },
        "id": "vzP71P6S-QJd",
        "outputId": "0b066f56-94f9-47fc-c608-99da46cc2258"
      },
      "source": [
        "for i in range (2,10):\r\n",
        "     for j in range (1,10):\r\n",
        "        print(i,\"x\",j,\"=\",i*j)    \r\n",
        "     print()"
      ],
      "execution_count": 34,
      "outputs": [
        {
          "output_type": "stream",
          "text": [
            "2 x 1 = 2\n",
            "2 x 2 = 4\n",
            "2 x 3 = 6\n",
            "2 x 4 = 8\n",
            "2 x 5 = 10\n",
            "2 x 6 = 12\n",
            "2 x 7 = 14\n",
            "2 x 8 = 16\n",
            "2 x 9 = 18\n",
            "\n",
            "3 x 1 = 3\n",
            "3 x 2 = 6\n",
            "3 x 3 = 9\n",
            "3 x 4 = 12\n",
            "3 x 5 = 15\n",
            "3 x 6 = 18\n",
            "3 x 7 = 21\n",
            "3 x 8 = 24\n",
            "3 x 9 = 27\n",
            "\n",
            "4 x 1 = 4\n",
            "4 x 2 = 8\n",
            "4 x 3 = 12\n",
            "4 x 4 = 16\n",
            "4 x 5 = 20\n",
            "4 x 6 = 24\n",
            "4 x 7 = 28\n",
            "4 x 8 = 32\n",
            "4 x 9 = 36\n",
            "\n",
            "5 x 1 = 5\n",
            "5 x 2 = 10\n",
            "5 x 3 = 15\n",
            "5 x 4 = 20\n",
            "5 x 5 = 25\n",
            "5 x 6 = 30\n",
            "5 x 7 = 35\n",
            "5 x 8 = 40\n",
            "5 x 9 = 45\n",
            "\n",
            "6 x 1 = 6\n",
            "6 x 2 = 12\n",
            "6 x 3 = 18\n",
            "6 x 4 = 24\n",
            "6 x 5 = 30\n",
            "6 x 6 = 36\n",
            "6 x 7 = 42\n",
            "6 x 8 = 48\n",
            "6 x 9 = 54\n",
            "\n",
            "7 x 1 = 7\n",
            "7 x 2 = 14\n",
            "7 x 3 = 21\n",
            "7 x 4 = 28\n",
            "7 x 5 = 35\n",
            "7 x 6 = 42\n",
            "7 x 7 = 49\n",
            "7 x 8 = 56\n",
            "7 x 9 = 63\n",
            "\n",
            "8 x 1 = 8\n",
            "8 x 2 = 16\n",
            "8 x 3 = 24\n",
            "8 x 4 = 32\n",
            "8 x 5 = 40\n",
            "8 x 6 = 48\n",
            "8 x 7 = 56\n",
            "8 x 8 = 64\n",
            "8 x 9 = 72\n",
            "\n",
            "9 x 1 = 9\n",
            "9 x 2 = 18\n",
            "9 x 3 = 27\n",
            "9 x 4 = 36\n",
            "9 x 5 = 45\n",
            "9 x 6 = 54\n",
            "9 x 7 = 63\n",
            "9 x 8 = 72\n",
            "9 x 9 = 81\n",
            "\n"
          ],
          "name": "stdout"
        }
      ]
    },
    {
      "cell_type": "code",
      "metadata": {
        "colab": {
          "base_uri": "https://localhost:8080/"
        },
        "id": "bvTu9knDCtyd",
        "outputId": "cda87148-b27b-41dc-d7dd-de4e07216d0d"
      },
      "source": [
        "#def 함수명 (매개변수):\r\n",
        "  #실행할 소스코드\r\n",
        "  #return 반환값\r\n",
        "\r\n",
        "\r\n",
        "def add(a,b):\r\n",
        "  return a+b\r\n",
        "print(add(3,7))\r\n",
        "\r\n",
        "\r\n",
        "def add(a,b):\r\n",
        "  print('함수의 결과:',a+b)\r\n",
        "add(3,7)\r\n",
        "\r\n",
        "\r\n",
        "def add(a,b):\r\n",
        "  print('함수의 결과:',a+b)\r\n",
        "add(b=3,a=7)\r\n",
        "\r\n",
        "\r\n",
        "\r\n",
        "a=0\r\n",
        "def func():\r\n",
        "  global a\r\n",
        "  a+=1\r\n",
        "for i in range(10):\r\n",
        "  func()\r\n",
        "print(a)\r\n",
        "\r\n",
        "\r\n",
        "\r\n",
        "def add(a,b):\r\n",
        "  return a+b\r\n",
        "#일반적인 add 매서드 사용\r\n",
        "print(add(3,7))\r\n",
        "\r\n",
        "#람다 표현식으로 구현한 add() 메서드\r\n",
        "print(lambda a,b:a+b)(3,7))\r\n",
        "\r\n"
      ],
      "execution_count": 44,
      "outputs": [
        {
          "output_type": "stream",
          "text": [
            "10\n",
            "함수의 결과: 10\n",
            "함수의 결과: 10\n",
            "10\n"
          ],
          "name": "stdout"
        }
      ]
    }
  ]
}